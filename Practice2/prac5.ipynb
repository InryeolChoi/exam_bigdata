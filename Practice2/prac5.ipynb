{
 "cells": [
  {
   "cell_type": "code",
   "execution_count": null,
   "metadata": {},
   "outputs": [],
   "source": [
    "# 1유형\n",
    "import pandas as pd\n",
    "\n",
    "df = pd.read_csv(\"../Dataset/sales_data.csv\")\n",
    "\n",
    "print(df.head(10))\n",
    "\n",
    "print(df.info())\n",
    "\n",
    "print(df.isnull().sum())\n",
    "\n",
    "df['Quantity'] = df['Quantity'].fillna(df['Quantity'].mean())\n",
    "df['Price'] = df['Price'].fillna(df['Price'].mean())\n",
    "df = df.dropna(subset=['Date', 'Discount'])\n",
    "df['Date'] = pd.to_datetime(df['Date'])\n",
    "df['Discount'] = df['Discount'].astype('int')\n",
    "df['Final_Amount'] = df['Price'] * df['Quantity'] * (1 - df['Discount'] / 100)\n",
    "\n",
    "df = df.sort_values(by='Date')\n",
    "df.head()\n",
    "\n",
    "# df.to_csv(\"processed_sales_data.csv\")"
   ]
  },
  {
   "cell_type": "code",
   "execution_count": null,
   "metadata": {},
   "outputs": [],
   "source": [
    "et=['Date', 'Discount'])\n",
    "df['Date'] = pd.to_datetime(df['Date'])\n",
    "df['Discount'] = df['Discount'].astype('int')\n",
    "df['Final_Amount'] = df['Price'] * df['Quantity'] * (1 - df['Discount'] / 100)\n",
    "\n",
    "df = df.sort_values(by='Date')\n",
    "df.head()\n",
    "\n",
    "# df.to_csv(\"processed_sales_data.csv\")"
   ]
  },
  {
   "cell_type": "code",
   "execution_count": null,
   "metadata": {},
   "outputs": [],
   "source": [
    "# 2유형 대비 문제\n",
    "import pandas as pd\n",
    "df = pd.read_csv(\"../Dataset/analysis_data.csv\")\n",
    "\n",
    "print(df.info(), end='\\n\\n')\n",
    "\n",
    "X = df.drop(labels='Target', axis=1)\n",
    "y = df['Target']\n",
    "\n",
    "from sklearn.model_selection import train_test_split\n",
    "X_train, X_test, y_train, y_test = train_test_split(X, y, test_size=0.2)\n",
    "\n",
    "print(f\"X_train : {X_train.shape}\")\n",
    "print(f\"X_test : {X_test.shape}\", end='\\n')\n",
    "\n",
    "from sklearn.linear_model import LinearRegression\n",
    "regressor = LinearRegression()\n",
    "\n",
    "regressor.fit(X_train, y_train)\n",
    "y_pred = regressor.predict(X_test)\n",
    "\n",
    "df2 = pd.DataFrame({'Actual' : y_test, 'Predicted' : y_pred})\n",
    "print(df2)\n",
    "\n",
    "from sklearn.metrics import mean_squared_error, mean_absolute_error\n",
    "print(mean_squared_error(y_test, y_pred))\n",
    "print(mean_absolute_error(y_test, y_pred))\n",
    "\n",
    "# df2.to_csv(\"predictions.csv\")"
   ]
  },
  {
   "cell_type": "code",
   "execution_count": null,
   "metadata": {},
   "outputs": [],
   "source": [
    "# 3유형 대비 문제\n",
    "df = pd.read_csv(\"../Dataset/hypothesis_data.csv\")\n",
    "\n",
    "print(df.head(10), end='\\n\\n')\n",
    "print(df.info(), end='\\n\\n')\n",
    "\n",
    "from scipy.stats import ttest_ind\n",
    "import numpy as np\n",
    "\n",
    "df1 = df[df['Group'] == 'A']\n",
    "df2 = df[df['Group'] == 'B']\n",
    "\n",
    "stats, pvalue = ttest_ind(df1['Score'], df2['Score'])\n",
    "print(f\"stats = {stats}\\npvalue = {pvalue}\")\n",
    "\n",
    "if pvalue < 0.05: print(\"H0 기각\")\n",
    "else : print(\"H0 기각 실패\")\n",
    "print(\"차이가 있다.\")"
   ]
  },
  {
   "cell_type": "code",
   "execution_count": null,
   "metadata": {},
   "outputs": [],
   "source": [
    "# 1유형\n",
    "import pandas as pd\n",
    "import numpy as np\n",
    "from datetime import datetime\n",
    "\n",
    "df = pd.read_csv('../Dataset/preprocessing_data.csv')\n",
    "\n",
    "print(df.isnull().sum(), end='\\n\\n')\n",
    "\n",
    "df['Age'] = df['Age'].fillna(df['Age'].median())\n",
    "df['Salary'] = df['Salary'].fillna(df['Salary'].median())\n",
    "\n",
    "df = df.dropna(subset=['Name', 'Department'])\n",
    "\n",
    "df['Join_Date'] = pd.to_datetime(df['Join_Date'])\n",
    "\n",
    "current_year = datetime.now().year\n",
    "df['Experience'] = 2024 - df['Join_Date'].dt.year\n",
    "\n",
    "# df.to_csv(\"processed_data.csv\")"
   ]
  },
  {
   "cell_type": "code",
   "execution_count": null,
   "metadata": {},
   "outputs": [],
   "source": [
    "import pandas as pd\n",
    "\n",
    "df = pd.read_csv(\"../Dataset/analysis_data.csv\")\n",
    "print(df.info())\n",
    "\n",
    "from sklearn.model_selection import train_test_split\n",
    "\n",
    "X = df.drop(labels = 'Outcome', axis = 1)\n",
    "y = df['Outcome']\n",
    "\n",
    "X_train, X_test, y_train, y_test = train_test_split(X, y, test_size=0.2)\n",
    "\n",
    "from sklearn.ensemble import RandomForestRegressor\n",
    "\n",
    "regressor = RandomForestRegressor(max_depth=3, random_state=1011)\n",
    "regressor.fit(X_train, y_train)\n",
    "\n",
    "y_pred = regressor.predict(X_test)\n",
    "\n",
    "result = pd.DataFrame({'actual' : y_test, 'Predicted' : y_pred})\n",
    "result.index = [i for i in range(len(y_test))]\n",
    "\n",
    "print(result)\n",
    "result.to_csv(\"predicted_results.csv\")\n",
    "\n",
    "from sklearn.metrics import mean_absolute_error, mean_squared_error\n",
    "print(mean_absolute_error(y_test, y_pred))\n",
    "print(mean_squared_error(y_test, y_pred))"
   ]
  },
  {
   "cell_type": "code",
   "execution_count": null,
   "metadata": {},
   "outputs": [],
   "source": [
    "import pandas as pd\n",
    "\n",
    "df = pd.read_csv(\"../Dataset/hypothesis_data.csv\")\n",
    "print(df.info())\n",
    "print(df.head(5))\n",
    "\n",
    "df1 = df[df['Group'] == 'X']\n",
    "df2 = df[df['Group'] == 'Y']\n",
    "\n",
    "from scipy.stats import ttest_ind\n",
    "stats, pvalue = ttest_ind(df1['Value'], df2['Value'])\n",
    "\n",
    "print(f\"{stats}\")\n",
    "if pvalue < 0.05:\n",
    "    print(f\"p-value = {pvalue}, H0 기각\")\n",
    "else:\n",
    "    print(f\"p-value = {pvalue}, H0 기각 실패\")"
   ]
  },
  {
   "cell_type": "code",
   "execution_count": null,
   "metadata": {},
   "outputs": [],
   "source": [
    "# 4회 문제 풀기\n",
    "lst = [10, 11, 11.2, 13, 15.5, 18, 19.8, 20, 31, 33, 39.5, 42]\n",
    "\n",
    "q1 = np.quantile(lst, 0.25)\n",
    "q3 = np.quantile(lst, 0.75)\n",
    "print(f\"q1 = {q1}\\nq3 = {q3}\")\n",
    "IQR = q3 - q1\n",
    "print(f\"IQR = {round(IQR)}\")"
   ]
  },
  {
   "cell_type": "code",
   "execution_count": null,
   "metadata": {},
   "outputs": [],
   "source": [
    "facebook = pd.read_csv(\"../Dataset/facebook.csv\")\n",
    "# facebook.info()\n",
    "\n",
    "facebook['num_positive_ratio'] = (facebook['num_loves'] + facebook['num_wows']) / facebook['num_reactions']\n",
    "# facebook.head(10)\n",
    "\n",
    "tmp = facebook[(facebook['num_positive_ratio'] > 0.4) & (facebook['num_positive_ratio'] < 0.5) & (facebook['status_type'] == 'video')]\n",
    "print(len(tmp))"
   ]
  },
  {
   "cell_type": "code",
   "execution_count": null,
   "metadata": {},
   "outputs": [],
   "source": [
    "netflix = pd.read_csv(\"../Dataset/netflix.csv\")\n",
    "# netflix.info()\n",
    "\n",
    "# netflix.head(10)\n",
    "\n",
    "tmp = netflix[netflix['date_added'].str.contains('2018') & netflix['date_added'].str.contains('January')]\n",
    "tmp2 = tmp[tmp['country'] == 'United Kingdom']\n",
    "print(len(tmp2))"
   ]
  },
  {
   "cell_type": "code",
   "execution_count": null,
   "metadata": {},
   "outputs": [],
   "source": [
    "import pandas as pd\n",
    "\n",
    "y_train = pd.read_csv(\"../Dataset/CS_Seg_y_train.csv\")\n",
    "X_train = pd.read_csv(\"../Dataset/CS_Seg_X_train.csv\")\n",
    "X_test = pd.read_csv(\"../Dataset/CS_Seg_X_test.csv\")\n",
    "\n",
    "print(X_train.info())\n",
    "\n",
    "X_train_num = X_train.drop(labels=['ID', 'Gender', 'Ever_Married', 'Graduated', 'Profession', 'Spending_Score'], axis=1)\n",
    "X_train_cat = X_train[['Gender', 'Ever_Married', 'Graduated', 'Profession', 'Spending_Score']]\n",
    "\n",
    "X_test_num = X_test.drop(labels=['ID', 'Gender', 'Ever_Married', 'Graduated', 'Profession', 'Spending_Score'], axis=1)\n",
    "X_test_cat = X_test[['Gender', 'Ever_Married', 'Graduated', 'Profession', 'Spending_Score']]\n",
    "\n",
    "from sklearn.preprocessing import MinMaxScaler, LabelEncoder\n",
    "scaler1 = MinMaxScaler()\n",
    "\n",
    "# 수치형 데이터 스케일링\n",
    "scaler1 = MinMaxScaler()\n",
    "X_train_num = pd.DataFrame(scaler1.fit_transform(X_train_num), columns=X_train_num.columns)\n",
    "X_test_num = pd.DataFrame(scaler1.transform(X_test_num), columns=X_test_num.columns)\n",
    "\n",
    "# 범주형 데이터 인코딩\n",
    "X_train_cat_encoded = pd.get_dummies(X_train_cat)\n",
    "X_test_cat_encoded = pd.get_dummies(X_test_cat)\n",
    "\n",
    "# 수치형과 범주형 데이터 결합\n",
    "X_train = pd.concat([X_train_num, X_train_cat_encoded], axis=1)\n",
    "X_test = pd.concat([X_test_num, X_test_cat_encoded], axis=1)\n",
    "\n",
    "from sklearn.ensemble import RandomForestClassifier\n",
    "classifier = RandomForestClassifier()\n",
    "\n",
    "classifier.fit(X_train, y_train['Segmentation'])"
   ]
  },
  {
   "cell_type": "code",
   "execution_count": null,
   "metadata": {},
   "outputs": [],
   "source": [
    "result = classifier.predict(X_test)\n",
    "pd.DataFrame({'Segmentation' : result})"
   ]
  },
  {
   "cell_type": "code",
   "execution_count": null,
   "metadata": {},
   "outputs": [],
   "source": [
    "# 5회 문제\n",
    "import pandas as pd\n",
    "\n",
    "df = pd.read_csv(\"../Dataset/trash_bag.csv\", encoding='cp949')\n",
    "df2 = df[(df['용도'] == '음식물쓰레기') & (df['사용대상'] == '가정용')]\n",
    "\n",
    "int(df2['2L가격'].mean())"
   ]
  },
  {
   "cell_type": "code",
   "execution_count": null,
   "metadata": {},
   "outputs": [],
   "source": [
    "df = pd.read_csv(\"../Dataset/BMI.csv\")\n",
    "df['BMI'] = df['Weight'] / np.power((df['Height'] / 100), 2)\n",
    "\n",
    "x1 = len(df[(df['BMI'] >= 18.5) & (df['BMI'] < 23)])\n",
    "x2 = len(df[(df['BMI'] >= 23) & (df['BMI'] < 25)])\n",
    "\n",
    "print(abs(x1-x2))"
   ]
  },
  {
   "cell_type": "code",
   "execution_count": null,
   "metadata": {},
   "outputs": [],
   "source": [
    "df = pd.read_csv(\"../Dataset/students.csv\", encoding='cp949')\n",
    "\n",
    "df['순 전입학생 수'] = df['총 전입학생'] - df['총 전출학생']\n",
    "df.info()\n",
    "df.groupby('학교')[['전체학생 수', '순 전입학생 수']].sum()"
   ]
  },
  {
   "cell_type": "code",
   "execution_count": null,
   "metadata": {},
   "outputs": [],
   "source": [
    "train = pd.read_csv(\"../Dataset/data_6_2_train.csv\")\n",
    "test = pd.read_csv(\"../Dataset/data_6_2_test.csv\")\n",
    "\n",
    "train.info()"
   ]
  },
  {
   "cell_type": "code",
   "execution_count": null,
   "metadata": {},
   "outputs": [],
   "source": [
    "train_y = train['구분']\n",
    "train_x = train.drop(labels='구분', axis=1)\n",
    "\n",
    "train_x = pd.get_dummies(train_x)\n",
    "test_x = pd.get_dummies(test)\n",
    "\n",
    "from sklearn.model_selection import train_test_split\n",
    "train_x, val_x, train_y, val_y = train_test_split(train_x, train_y, test_size=0.2, random_state=1111)"
   ]
  },
  {
   "cell_type": "code",
   "execution_count": null,
   "metadata": {},
   "outputs": [],
   "source": [
    "from sklearn.ensemble import RandomForestClassifier\n",
    "classifier = RandomForestClassifier()\n",
    "\n",
    "classifier.fit(train_x, train_y)\n",
    "result = classifier.predict(val_x)\n",
    "\n",
    "from sklearn.metrics import f1_score\n",
    "f1_score(val_y, result, average='micro')"
   ]
  },
  {
   "cell_type": "code",
   "execution_count": 8,
   "metadata": {},
   "outputs": [],
   "source": [
    "import pandas as pd\n",
    "\n",
    "df = pd.DataFrame({\"항암제\" : ['무증상', '속쓰림', '무증상', '무증상', '조금아픔', '무증상', '조금아픔', '무증상', '조금아픔', '무증상', '아픔', '무증상', '조금아픔', '무증상', '아픔', '무증상', '속쓰림', '무증상', '아픔', '무증상']})"
   ]
  },
  {
   "cell_type": "code",
   "execution_count": 12,
   "metadata": {},
   "outputs": [
    {
     "data": {
      "text/plain": [
       "0.55"
      ]
     },
     "execution_count": 12,
     "metadata": {},
     "output_type": "execute_result"
    }
   ],
   "source": [
    "len(df[df['항암제'] == '무증상']) / len(df)"
   ]
  },
  {
   "cell_type": "code",
   "execution_count": 14,
   "metadata": {},
   "outputs": [],
   "source": [
    "list1 = list(df['항암제'].value_counts())\n",
    "total = len(df['항암제'])\n",
    "list2 = [0.7 * total, 0.1 * total, 0.05 * total, 0.15 * total]"
   ]
  },
  {
   "cell_type": "code",
   "execution_count": null,
   "metadata": {},
   "outputs": [
    {
     "data": {
      "text/plain": [
       "Power_divergenceResult(statistic=np.float64(6.976190476190475), pvalue=np.float64(0.07266054733847586))"
      ]
     },
     "execution_count": 15,
     "metadata": {},
     "output_type": "execute_result"
    }
   ],
   "source": [
    "from scipy.stats import chisquare\n",
    "\n",
    "chisquare(list1, list2)"
   ]
  },
  {
   "cell_type": "code",
   "execution_count": null,
   "metadata": {},
   "outputs": [],
   "source": [
    "import statsmodels.formula.api as smf\n",
    "\n",
    "df = pd.read_csv(\"../Dataset/BostonHousing.csv\")\n",
    "\n",
    "formula = 'medv ~ lstat + rm + age + crim'  # 주요 변수 선택\n",
    "model = smf.ols(formula=formula, data=df).fit()\n",
    "\n",
    "print(model.params, end='\\n')\n",
    "print(model.pvalues, end='\\n')\n",
    "print(model.rsquared, end='\\n')\n",
    "\n",
    "data = df\n",
    "predictions = model.predict(data)\n",
    "print(predictions[:5])\n",
    "\n",
    "print(model.summary())"
   ]
  },
  {
   "cell_type": "code",
   "execution_count": null,
   "metadata": {},
   "outputs": [],
   "source": [
    "import statsmodels.formula.api as smf\n",
    "\n",
    "df = pd.read_csv(\"../Dataset/titanic.csv\")\n",
    "\n",
    "data = data[['Survived', 'Pclass', 'Sex', 'Age', 'Fare']]  # 주요 변수만 선택\n",
    "data['Sex'] = data['Sex'].map({'male': 0, 'female': 1})  # 성별 숫자로 변환\n",
    "data = data.dropna()  # 결측치 제거\n",
    "\n",
    "formula = 'Survived ~ Pclass + Sex + Age + Fare'\n",
    "model = smf.logit(formula, data=df).fit()\n",
    "\n",
    "# 오즈비 계산\n",
    "odds_ratios = pd.Series(np.exp(model.params), index=model.params.index)\n",
    "print(\"\\n오즈비 (Odds Ratios):\\n\", odds_ratios)\n",
    "\n",
    "# 잔차이탈도 출력\n",
    "print(\"\\n잔차이탈도:\\n\", model.deviance)\n",
    "\n",
    "# 오차율 계산\n",
    "predicted_probs = model.predict(data)\n",
    "predicted_classes = (predicted_probs > 0.5).astype(int)\n",
    "error_rate = (predicted_classes != data['Survived']).mean()\n",
    "print(\"\\n오차율:\", error_rate)"
   ]
  }
 ],
 "metadata": {
  "kernelspec": {
   "display_name": "myenv",
   "language": "python",
   "name": "python3"
  },
  "language_info": {
   "codemirror_mode": {
    "name": "ipython",
    "version": 3
   },
   "file_extension": ".py",
   "mimetype": "text/x-python",
   "name": "python",
   "nbconvert_exporter": "python",
   "pygments_lexer": "ipython3",
   "version": "3.12.5"
  }
 },
 "nbformat": 4,
 "nbformat_minor": 2
}
