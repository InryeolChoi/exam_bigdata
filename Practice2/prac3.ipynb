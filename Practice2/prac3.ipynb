{
 "cells": [
  {
   "cell_type": "markdown",
   "metadata": {},
   "source": [
    "<3유형에서 기억해야 할 유형>\n",
    "* t-test\n",
    "* 두 집단 비교 (평균, 중앙값)\n",
    "* 정규성 검정\n",
    "* 대응표본의 평균차이 검정\n",
    "* 단일표본 모분산 검정\n",
    "* 두 모분산 비에 대한 가설 검정\n",
    "* 독립성 검정"
   ]
  },
  {
   "cell_type": "code",
   "execution_count": 2,
   "metadata": {},
   "outputs": [],
   "source": [
    "import pandas as pd\n",
    "import numpy as np\n",
    "import matplotlib.pyplot as plt"
   ]
  },
  {
   "cell_type": "markdown",
   "metadata": {},
   "source": [
    "```python\n",
    "from scipy import stats\n",
    "\n",
    "# 일표본 평균 검정 + 신뢰구간\n",
    "tstat, pvalue = stats.ttest_1samp(data, '표본평균', alternative)\n",
    "stats.t.interval(1 - alpha, len(data) - 1, data.mean(), stats.sem(data))\n",
    "\n",
    "# 정규성 검정\n",
    "tstat, pvalue = stats.shapiro(data)\n",
    "\n",
    "# 독립성 검정\n",
    "tstat, pvalue = stats.ttest_ind(data1, data2, alternative)\n",
    "\n",
    "# 대응표본\n",
    "tstat, pvalue = stats.ttest_rel(data1, data2, alternative)\n",
    "\n",
    "# 단일표본 모분산 검정\n",
    "tstat, pvalue = stats.chi2.cdf(data, len(data) - 1)\n",
    "\n",
    "# 두 집단 모분산 검정\n",
    "pval = stats.f.cdf(fstat, len(sample1)-1, len(sample2)-1)\n",
    "\n",
    "# 독립성 검정\n",
    "table = pd.crosstab(data1, data2)\n",
    "chi2, p, df, expected = stats.chi2_contingency(table)\n",
    "```"
   ]
  },
  {
   "cell_type": "code",
   "execution_count": 17,
   "metadata": {},
   "outputs": [
    {
     "name": "stdout",
     "output_type": "stream",
     "text": [
      "20.0906\n",
      "6.0269\n",
      "0.9327606409093872\n",
      "17.920427412232236\n"
     ]
    }
   ],
   "source": [
    "mtcars = pd.read_csv(\"../Dataset/mtcars.csv\")\n",
    "\n",
    "print(round(mtcars['mpg'].mean(), 4))\n",
    "print(round(mtcars['mpg'].std(), 4))\n",
    "\n",
    "\n",
    "from scipy import stats\n",
    "tstat, pvalue = stats.ttest_1samp(mtcars['mpg'], 20)\n",
    "print(pvalue)\n",
    "# pvalue < 0.05 => H0 기각.\n",
    "\n",
    "conf_interval = stats.t.interval(0.95, len(mtcars['mpg'] - 1), loc = mtcars['mpg'].mean(), \n",
    "                                 scale = stats.sem(mtcars['mpg']))\n",
    "print(conf_interval[0])"
   ]
  },
  {
   "cell_type": "code",
   "execution_count": null,
   "metadata": {},
   "outputs": [
    {
     "name": "stdout",
     "output_type": "stream",
     "text": [
      "106.2\n",
      "108.2\n",
      "0.936647894791766, 0.6423466055967311\n",
      "0.8325512404579556, 0.14536171429482744\n",
      "-0.29494803841956824, 0.7755429481317487\n"
     ]
    }
   ],
   "source": [
    "data1 = [117, 119, 105, 89, 101]\n",
    "data2 = [121, 101, 102, 114, 103]\n",
    "\n",
    "print(np.mean(data1))\n",
    "print(np.mean(data2))\n",
    "\n",
    "tstat, pvalue = stats.shapiro(data1)\n",
    "print(f\"{tstat}, {pvalue}\")\n",
    "tstat, pvalue = stats.shapiro(data2)\n",
    "print(f\"{tstat}, {pvalue}\")\n",
    "\n",
    "tstat, pvalue = stats.ttest_ind(data1, data2)\n",
    "print(f\"{tstat}, {pvalue}\")"
   ]
  },
  {
   "cell_type": "code",
   "execution_count": 22,
   "metadata": {},
   "outputs": [
    {
     "name": "stdout",
     "output_type": "stream",
     "text": [
      "-0.28897630852606726, 0.7869574913547734\n"
     ]
    }
   ],
   "source": [
    "data1 = [117, 119, 105, 89, 101]\n",
    "data2 = [121, 101, 102, 114, 103]\n",
    "\n",
    "tstat, pvalue = stats.ttest_rel(data1, data2)\n",
    "print(f\"{tstat}, {pvalue}\")"
   ]
  },
  {
   "cell_type": "code",
   "execution_count": null,
   "metadata": {},
   "outputs": [
    {
     "name": "stdout",
     "output_type": "stream",
     "text": [
      "3.207722220911907e-05\n"
     ]
    }
   ],
   "source": [
    "sample1 = np.random.normal(loc=5, scale=2, size=50) # 첫 번째 표본 생성\n",
    "sample2 = np.random.normal(loc=5, scale=3, size=50) # 두 번째 표본 생성\n",
    "\n",
    "fstat = sample1.var() / sample2.var()\n",
    "pval = stats.f.cdf(fstat, len(sample1)-1, len(sample2)-1)\n",
    "print(f\"{pval}\")"
   ]
  },
  {
   "cell_type": "code",
   "execution_count": 7,
   "metadata": {},
   "outputs": [
    {
     "data": {
      "text/plain": [
       "Chi2ContingencyResult(statistic=np.float64(260.71702016732104), pvalue=np.float64(1.197357062775565e-58), dof=1, expected_freq=array([[193.47474747, 355.52525253],\n",
       "       [120.52525253, 221.47474747]]))"
      ]
     },
     "execution_count": 7,
     "metadata": {},
     "output_type": "execute_result"
    }
   ],
   "source": [
    "titanic = pd.read_csv(\"../Dataset/titanic.csv\")\n",
    "\n",
    "from scipy import stats\n",
    "table = pd.crosstab(titanic['Survived'], titanic['Sex'])\n",
    "stats.chi2_contingency(table)"
   ]
  }
 ],
 "metadata": {
  "kernelspec": {
   "display_name": "myenv",
   "language": "python",
   "name": "python3"
  },
  "language_info": {
   "codemirror_mode": {
    "name": "ipython",
    "version": 3
   },
   "file_extension": ".py",
   "mimetype": "text/x-python",
   "name": "python",
   "nbconvert_exporter": "python",
   "pygments_lexer": "ipython3",
   "version": "3.12.5"
  }
 },
 "nbformat": 4,
 "nbformat_minor": 2
}
